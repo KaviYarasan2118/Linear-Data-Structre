{
 "cells": [
  {
   "cell_type": "code",
   "execution_count": 1,
   "id": "d7f303e6",
   "metadata": {},
   "outputs": [
    {
     "name": "stdout",
     "output_type": "stream",
     "text": [
      "[(4, 3), (5, 2), (6, 1)]\n"
     ]
    }
   ],
   "source": [
    "# #   Q1.Write a program to find all pairs of an integer array whose sum is equal to a given number?\n",
    "\n",
    "def find_pairs(arr, target_sum):\n",
    "    pairs = []\n",
    "    seen = set()\n",
    "\n",
    "    for num in arr:\n",
    "        complement = target_sum - num\n",
    "        if complement in seen:\n",
    "            pairs.append((num, complement))\n",
    "        seen.add(num)\n",
    "\n",
    "    return pairs\n",
    "\n",
    "\n",
    "arr = [1, 2, 3, 4, 5, 6]\n",
    "target = 7\n",
    "result = find_pairs(arr, target)\n",
    "print(result)"
   ]
  },
  {
   "cell_type": "code",
   "execution_count": 3,
   "id": "94fd0b0c",
   "metadata": {},
   "outputs": [
    {
     "name": "stdout",
     "output_type": "stream",
     "text": [
      "[5, 4, 3, 2, 1]\n"
     ]
    }
   ],
   "source": [
    " #Q2. Write a program to reverse an array in place? In place means you cannot create a new array. You have to update the original array.\n",
    "\n",
    "\n",
    "\n",
    "\n",
    "\n",
    "\n",
    "def reverse_array(arr):\n",
    "    start = 0\n",
    "    end = len(arr) - 1\n",
    "\n",
    "    while start < end:\n",
    "        arr[start], arr[end] = arr[end], arr[start]\n",
    "        start += 1\n",
    "        end -= 1\n",
    "\n",
    "\n",
    "arr = [1, 2, 3, 4, 5]\n",
    "reverse_array(arr)\n",
    "print(arr)\n"
   ]
  },
  {
   "cell_type": "code",
   "execution_count": 4,
   "id": "9928205f",
   "metadata": {},
   "outputs": [
    {
     "name": "stdout",
     "output_type": "stream",
     "text": [
      "True\n"
     ]
    }
   ],
   "source": [
    "#Q3. Write a program to check if two strings are a rotation of each other?\n",
    "\n",
    "\n",
    "def are_rotations(string1, string2):\n",
    "    if len(string1) != len(string2):\n",
    "        return False\n",
    "\n",
    "    concatenated = string1 + string1\n",
    "    if string2 in concatenated:\n",
    "        return True\n",
    "    else:\n",
    "        return False\n",
    "\n",
    "# Example usage:\n",
    "str1 = \"abcd\"\n",
    "str2 = \"cdab\"\n",
    "result = are_rotations(str1, str2)\n",
    "print(result)\n"
   ]
  },
  {
   "cell_type": "code",
   "execution_count": 6,
   "id": "b20251c2",
   "metadata": {},
   "outputs": [
    {
     "name": "stdout",
     "output_type": "stream",
     "text": [
      "K\n"
     ]
    }
   ],
   "source": [
    "#Q4. Write a program to print the first non-repeated character from a string?\n",
    "\n",
    "\n",
    "\n",
    "def find_first_non_repeated_char(string):\n",
    "    char_count = {}\n",
    "\n",
    "    # Count the occurrence of each character\n",
    "    for char in string:\n",
    "        char_count[char] = char_count.get(char, 0) + 1\n",
    "\n",
    "    # Find the first non-repeated character\n",
    "    for char in string:\n",
    "        if char_count[char] == 1:\n",
    "            return char\n",
    "\n",
    "    # If no non-repeated character found, return None\n",
    "    return None\n",
    "\n",
    "# Example usage:\n",
    "input_string = \"Kavi Yarasan\"\n",
    "result = find_first_non_repeated_char(input_string)\n",
    "print(result)\n"
   ]
  },
  {
   "cell_type": "code",
   "execution_count": 7,
   "id": "5f73c215",
   "metadata": {},
   "outputs": [
    {
     "name": "stdout",
     "output_type": "stream",
     "text": [
      "Move disk 1 from A to C\n",
      "Move disk 2 from A to B\n",
      "Move disk 1 from C to B\n",
      "Move disk 3 from A to C\n",
      "Move disk 1 from B to A\n",
      "Move disk 2 from B to C\n",
      "Move disk 1 from A to C\n"
     ]
    }
   ],
   "source": [
    "#Q5. Read about the Tower of Hanoi algorithm. Write a program to implement it.\n",
    "\n",
    "\n",
    "\n",
    "\n",
    "def tower_of_hanoi(n, source, destination, auxiliary):\n",
    "    if n == 1:\n",
    "        print(f\"Move disk 1 from {source} to {destination}\")\n",
    "        return\n",
    "\n",
    "    tower_of_hanoi(n-1, source, auxiliary, destination)\n",
    "    print(f\"Move disk {n} from {source} to {destination}\")\n",
    "    tower_of_hanoi(n-1, auxiliary, destination, source)\n",
    "\n",
    "\n",
    "# Example usage:\n",
    "n = 3\n",
    "tower_of_hanoi(n, 'A', 'C', 'B')\n"
   ]
  },
  {
   "cell_type": "code",
   "execution_count": 8,
   "id": "406765d1",
   "metadata": {},
   "outputs": [
    {
     "name": "stdout",
     "output_type": "stream",
     "text": [
      "Prefix Expression: +*234\n"
     ]
    }
   ],
   "source": [
    "#Q6. Read about infix, prefix, and postfix expressions. Write a program to convert postfix to prefix expression.\n",
    "\n",
    "\n",
    "\n",
    "def postfix_to_prefix(expression):\n",
    "    stack = []\n",
    "    operators = set(['+', '-', '*', '/', '^'])\n",
    "\n",
    "    for char in expression:\n",
    "        if char not in operators:\n",
    "            stack.append(char)\n",
    "        else:\n",
    "            operand2 = stack.pop()\n",
    "            operand1 = stack.pop()\n",
    "            prefix_expression = char + operand1 + operand2\n",
    "            stack.append(prefix_expression)\n",
    "\n",
    "    return stack.pop()\n",
    "\n",
    "\n",
    "# Example usage:\n",
    "postfix_expression = \"23*4+\"\n",
    "prefix_expression = postfix_to_prefix(postfix_expression)\n",
    "print(\"Prefix Expression:\", prefix_expression)\n"
   ]
  },
  {
   "cell_type": "code",
   "execution_count": 9,
   "id": "b260fc7a",
   "metadata": {},
   "outputs": [
    {
     "name": "stdout",
     "output_type": "stream",
     "text": [
      "Infix Expression: ((2*3)+(4*5))\n"
     ]
    }
   ],
   "source": [
    "#Q7. Write a program to convert prefix expression to infix expression.\n",
    "\n",
    "\n",
    "\n",
    "\n",
    "def prefix_to_infix(expression):\n",
    "    stack = []\n",
    "    operators = set(['+', '-', '*', '/', '^'])\n",
    "\n",
    "    for char in reversed(expression):\n",
    "        if char not in operators:\n",
    "            stack.append(char)\n",
    "        else:\n",
    "            operand1 = stack.pop()\n",
    "            operand2 = stack.pop()\n",
    "            infix_expression = '(' + operand1 + char + operand2 + ')'\n",
    "            stack.append(infix_expression)\n",
    "\n",
    "    return stack.pop()\n",
    "\n",
    "\n",
    "# Example usage:\n",
    "prefix_expression = \"+*23*456\"\n",
    "infix_expression = prefix_to_infix(prefix_expression)\n",
    "print(\"Infix Expression:\", infix_expression)\n"
   ]
  },
  {
   "cell_type": "code",
   "execution_count": 11,
   "id": "50821da9",
   "metadata": {},
   "outputs": [
    {
     "name": "stdout",
     "output_type": "stream",
     "text": [
      "Brackets Closed: True\n"
     ]
    }
   ],
   "source": [
    "#Q8. Write a program to check if all the brackets are closed in a given code snippet.\n",
    "\n",
    "\n",
    "def check_brackets(code):\n",
    "    stack = []\n",
    "    opening_brackets = set(['(', '[', '{'])\n",
    "    closing_brackets = set([')', ']', '}'])\n",
    "    bracket_pairs = {')': '(', ']': '[', '}': '{'}\n",
    "\n",
    "    for char in code:\n",
    "        if char in opening_brackets:\n",
    "            stack.append(char)\n",
    "        elif char in closing_brackets:\n",
    "            if len(stack) == 0 or stack[-1] != bracket_pairs[char]:\n",
    "                return False\n",
    "            stack.pop()\n",
    "\n",
    "    return len(stack) == 0\n",
    "\n",
    "\n",
    "# Example usage:\n",
    "code_snippet = \"{ (a + b) * [c - d] }\"\n",
    "brackets_closed = check_brackets(code_snippet)\n",
    "print(\"Brackets Closed:\", brackets_closed)\n"
   ]
  },
  {
   "cell_type": "code",
   "execution_count": 13,
   "id": "d0362d61",
   "metadata": {},
   "outputs": [
    {
     "name": "stdout",
     "output_type": "stream",
     "text": [
      "Original Stack: [1, 2, 3, 4, 5]\n",
      "Reversed Stack: [5, 4, 3, 2, 1]\n"
     ]
    }
   ],
   "source": [
    "#Q9. Write a program to reverse a stack.\n",
    "\n",
    "\n",
    "\n",
    "\n",
    "def reverse_stack(stack):\n",
    "    if not stack:\n",
    "        return\n",
    "\n",
    "    bottom = pop_bottom(stack)\n",
    "    reverse_stack(stack)\n",
    "    stack.append(bottom)\n",
    "\n",
    "\n",
    "def pop_bottom(stack):\n",
    "    item = stack.pop()\n",
    "    if not stack:\n",
    "        return item\n",
    "    else:\n",
    "        bottom = pop_bottom(stack)\n",
    "        stack.append(item)\n",
    "        return bottom\n",
    "\n",
    "\n",
    "# Example usage:\n",
    "stack = [1, 2, 3, 4, 5]\n",
    "print(\"Original Stack:\", stack)\n",
    "\n",
    "reverse_stack(stack)\n",
    "print(\"Reversed Stack:\", stack)\n"
   ]
  },
  {
   "cell_type": "code",
   "execution_count": 14,
   "id": "cfef28bc",
   "metadata": {},
   "outputs": [
    {
     "name": "stdout",
     "output_type": "stream",
     "text": [
      "Smallest Number: 1\n"
     ]
    }
   ],
   "source": [
    "#Q10. Write a program to find the smallest number using a stack.\n",
    "\n",
    "\n",
    "def find_smallest_number(stack):\n",
    "    if not stack:\n",
    "        return None\n",
    "\n",
    "    minimum = stack[-1]  # Assume the topmost element as the minimum\n",
    "\n",
    "    for num in stack:\n",
    "        if num < minimum:\n",
    "            minimum = num\n",
    "\n",
    "    return minimum\n",
    "\n",
    "\n",
    "# Example usage:\n",
    "stack = [5, 3, 9, 1, 7]\n",
    "smallest_number = find_smallest_number(stack)\n",
    "print(\"Smallest Number:\", smallest_number)\n"
   ]
  },
  {
   "cell_type": "code",
   "execution_count": null,
   "id": "d6e269c1",
   "metadata": {},
   "outputs": [],
   "source": []
  }
 ],
 "metadata": {
  "kernelspec": {
   "display_name": "Python 3 (ipykernel)",
   "language": "python",
   "name": "python3"
  },
  "language_info": {
   "codemirror_mode": {
    "name": "ipython",
    "version": 3
   },
   "file_extension": ".py",
   "mimetype": "text/x-python",
   "name": "python",
   "nbconvert_exporter": "python",
   "pygments_lexer": "ipython3",
   "version": "3.10.9"
  }
 },
 "nbformat": 4,
 "nbformat_minor": 5
}
